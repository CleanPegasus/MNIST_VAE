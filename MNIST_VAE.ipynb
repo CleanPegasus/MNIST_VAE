{
 "cells": [
  {
   "cell_type": "code",
   "execution_count": 5,
   "metadata": {},
   "outputs": [],
   "source": [
    "from tensorflow.keras.layers import Conv2D, Flatten, Dense, Reshape, Conv2DTranspose, Lambda\n",
    "from tensorflow.keras import backend as K\n",
    "from tensorflow.keras import Input\n",
    "from tensorflow.keras.models import Model\n",
    "\n",
    "import numpy as np"
   ]
  },
  {
   "cell_type": "code",
   "execution_count": 3,
   "metadata": {},
   "outputs": [],
   "source": [
    "img_shape = (28, 28, 1)\n",
    "batch_size = 16\n",
    "latent_dim = 2"
   ]
  },
  {
   "cell_type": "code",
   "execution_count": 7,
   "metadata": {},
   "outputs": [],
   "source": [
    "def sampling(args):\n",
    "    \n",
    "    z_mean, _log_var = args\n",
    "    epsilon = K.random_normal(shape = (K.shape(z_mean)[0], latent_dim), mean = 0.0, stddev = 1.0)\n",
    "    \n",
    "    return z_mean + K.exp(z_log_var) * epsilon"
   ]
  },
  {
   "cell_type": "code",
   "execution_count": 9,
   "metadata": {},
   "outputs": [],
   "source": [
    "input_img = Input(shape = img_shape)\n",
    "\n",
    "x = input_img\n",
    "x = Conv2D(32, 3, padding = 'same', activation = 'relu')(x)\n",
    "x = Conv2D(64, 3, padding = 'same', activation = 'relu', strides = (2, 2))(x)\n",
    "x = Conv2D(64, 3, padding = 'same', activation = 'relu')(x)\n",
    "x = Conv2D(64, 3, padding = 'same', activation = 'relu')(x)\n",
    "\n",
    "shape_before_flatening = K.int_shape(x)\n",
    "\n",
    "x = Flatten()(x)\n",
    "x = Dense(32, activation = 'relu')(x)\n",
    "\n",
    "z_mean = Dense(latent_dim)(x)\n",
    "z_log_var = Dense(latent_dim)(x)\n",
    "\n",
    "z = Lambda(sampling)([z_mean, z_log_var])"
   ]
  },
  {
   "cell_type": "code",
   "execution_count": null,
   "metadata": {},
   "outputs": [],
   "source": [
    "decoder_input = Input(K.int_shape(z)[1:])\n",
    "\n",
    "x = Dense(np.prod(shape_before_flatening[1:]), activation = 'relu')(decoder_input)\n",
    "x = Reshape(shape_before_flatening[1:])(x)\n",
    "\n",
    "x = Conv2DTranspose(32, 3, padding = 'same', activation = 'relu', strides = (2, 2))(x)\n",
    "\n",
    "x = Conv2D(1, 3, padding = 'same', activation = 'sigmoid')(x)\n",
    "\n",
    "decoder = Model"
   ]
  }
 ],
 "metadata": {
  "kernelspec": {
   "display_name": "Python 3",
   "language": "python",
   "name": "python3"
  },
  "language_info": {
   "codemirror_mode": {
    "name": "ipython",
    "version": 3
   },
   "file_extension": ".py",
   "mimetype": "text/x-python",
   "name": "python",
   "nbconvert_exporter": "python",
   "pygments_lexer": "ipython3",
   "version": "3.7.5"
  }
 },
 "nbformat": 4,
 "nbformat_minor": 2
}
